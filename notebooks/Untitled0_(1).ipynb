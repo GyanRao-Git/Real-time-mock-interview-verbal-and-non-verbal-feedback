{
  "cells": [
    {
      "cell_type": "code",
      "execution_count": null,
      "metadata": {
        "colab": {
          "background_save": true,
          "base_uri": "https://localhost:8080/"
        },
        "id": "3tA2gV-LyGYj",
        "outputId": "7b0ca968-7b4c-41ad-b5bb-b79fc6437b13"
      },
      "outputs": [
        {
          "name": "stdout",
          "output_type": "stream",
          "text": [
            "Mounted at /content/drive\n"
          ]
        },
        {
          "name": "stderr",
          "output_type": "stream",
          "text": [
            "/usr/local/lib/python3.11/dist-packages/torchvision/models/_utils.py:208: UserWarning: The parameter 'pretrained' is deprecated since 0.13 and may be removed in the future, please use 'weights' instead.\n",
            "  warnings.warn(\n",
            "/usr/local/lib/python3.11/dist-packages/torchvision/models/_utils.py:223: UserWarning: Arguments other than a weight enum or `None` for 'weights' are deprecated since 0.13 and may be removed in the future. The current behavior is equivalent to passing `weights=ResNet18_Weights.IMAGENET1K_V1`. You can also use `weights=ResNet18_Weights.DEFAULT` to get the most up-to-date weights.\n",
            "  warnings.warn(msg)\n",
            "Downloading: \"https://download.pytorch.org/models/resnet18-f37072fd.pth\" to /root/.cache/torch/hub/checkpoints/resnet18-f37072fd.pth\n",
            "100%|██████████| 44.7M/44.7M [00:00<00:00, 160MB/s]\n"
          ]
        }
      ],
      "source": [
        "# 1. Mount Google Drive\n",
        "from google.colab import drive\n",
        "drive.mount('/content/drive')\n",
        "\n",
        "# 2. Unzip AffectNet if needed\n",
        "import zipfile, os\n",
        "\n",
        "zip_path = '/content/drive/MyDrive/affectnet.zip'  # <- Update if needed\n",
        "extract_path = '/content/affectnet'\n",
        "\n",
        "if not os.path.exists(extract_path):\n",
        "    with zipfile.ZipFile(zip_path, 'r') as zip_ref:\n",
        "        zip_ref.extractall(extract_path)\n",
        "\n",
        "# 3. Imports\n",
        "import torch, torchvision\n",
        "from torch.utils.data import Dataset, DataLoader\n",
        "from torchvision import transforms, models\n",
        "import torch.nn as nn\n",
        "import torch.optim as optim\n",
        "from PIL import Image\n",
        "import numpy as np\n",
        "import matplotlib.pyplot as plt\n",
        "\n",
        "device = torch.device(\"cuda\" if torch.cuda.is_available() else \"cpu\")\n",
        "\n",
        "# 4. Dataset Class with Face Cropping using YOLO labels\n",
        "class AffectNetDataset(Dataset):\n",
        "    def __init__(self, images_dir, labels_dir, transform=None):\n",
        "        self.images_dir = images_dir\n",
        "        self.labels_dir = labels_dir\n",
        "        self.transform = transform\n",
        "        self.image_files = sorted([\n",
        "            f for f in os.listdir(images_dir)\n",
        "            if f.endswith('.jpg') or f.endswith('.png')\n",
        "        ])\n",
        "\n",
        "    def __len__(self):\n",
        "        return len(self.image_files)\n",
        "\n",
        "    def __getitem__(self, idx):\n",
        "        img_name = self.image_files[idx]\n",
        "        img_path = os.path.join(self.images_dir, img_name)\n",
        "        label_path = os.path.join(self.labels_dir, img_name.replace('.jpg', '.txt').replace('.png', '.txt'))\n",
        "\n",
        "        image = Image.open(img_path).convert('RGB')\n",
        "        width, height = image.size\n",
        "\n",
        "        # Parse YOLO label\n",
        "        with open(label_path, 'r') as f:\n",
        "            line = f.readline().strip()\n",
        "            parts = line.split()\n",
        "            class_id = int(parts[0])\n",
        "            x_center = float(parts[1]) * width\n",
        "            y_center = float(parts[2]) * height\n",
        "            box_width = float(parts[3]) * width\n",
        "            box_height = float(parts[4]) * height\n",
        "\n",
        "            left = int(x_center - box_width / 2)\n",
        "            top = int(y_center - box_height / 2)\n",
        "            right = int(x_center + box_width / 2)\n",
        "            bottom = int(y_center + box_height / 2)\n",
        "\n",
        "            image = image.crop((left, top, right, bottom))\n",
        "\n",
        "        if self.transform:\n",
        "            image = self.transform(image)\n",
        "\n",
        "        return image, class_id\n",
        "\n",
        "# 5. Image transforms\n",
        "transform = transforms.Compose([\n",
        "    transforms.Resize((224, 224)),\n",
        "    transforms.ToTensor(),\n",
        "    transforms.Normalize(mean=[0.485, 0.456, 0.406],\n",
        "                         std=[0.229, 0.224, 0.225])\n",
        "])\n",
        "\n",
        "# 6. Paths\n",
        "base_path = '/content/affectnet/YOLO_format'\n",
        "train_images = f'{base_path}/train/images'\n",
        "train_labels = f'{base_path}/train/labels'\n",
        "valid_images = f'{base_path}/valid/images'\n",
        "valid_labels = f'{base_path}/valid/labels'\n",
        "test_images = f'{base_path}/test/images'\n",
        "test_labels = f'{base_path}/test/labels'\n",
        "\n",
        "# 7. Datasets and loaders\n",
        "train_dataset = AffectNetDataset(train_images, train_labels, transform)\n",
        "valid_dataset = AffectNetDataset(valid_images, valid_labels, transform)\n",
        "test_dataset = AffectNetDataset(test_images, test_labels, transform)\n",
        "\n",
        "train_loader = DataLoader(train_dataset, batch_size=32, shuffle=True, num_workers=2)\n",
        "valid_loader = DataLoader(valid_dataset, batch_size=32, shuffle=False, num_workers=2)\n",
        "test_loader = DataLoader(test_dataset, batch_size=32, shuffle=False, num_workers=2)\n",
        "\n",
        "# 8. Model: ResNet18\n",
        "num_classes = 8  # Change this based on your dataset\n",
        "model = models.resnet18(pretrained=True)\n",
        "model.fc = nn.Linear(model.fc.in_features, num_classes)\n",
        "model = model.to(device)\n",
        "\n",
        "# 9. Loss & optimizer\n",
        "criterion = nn.CrossEntropyLoss()\n",
        "optimizer = optim.Adam(model.parameters(), lr=1e-4)\n",
        "\n",
        "# 10. Train/Val Functions\n",
        "def train_epoch(model, loader, optimizer, criterion):\n",
        "    model.train()\n",
        "    total_loss, total_correct = 0, 0\n",
        "    for x, y in loader:\n",
        "        x, y = x.to(device), y.to(device)\n",
        "        optimizer.zero_grad()\n",
        "        out = model(x)\n",
        "        loss = criterion(out, y)\n",
        "        loss.backward()\n",
        "        optimizer.step()\n",
        "        total_loss += loss.item() * x.size(0)\n",
        "        total_correct += (out.argmax(1) == y).sum().item()\n",
        "    return total_loss / len(loader.dataset), total_correct / len(loader.dataset)\n",
        "\n",
        "def eval_model(model, loader, criterion):\n",
        "    model.eval()\n",
        "    total_loss, total_correct = 0, 0\n",
        "    with torch.no_grad():\n",
        "        for x, y in loader:\n",
        "            x, y = x.to(device), y.to(device)\n",
        "            out = model(x)\n",
        "            loss = criterion(out, y)\n",
        "            total_loss += loss.item() * x.size(0)\n",
        "            total_correct += (out.argmax(1) == y).sum().item()\n",
        "    return total_loss / len(loader.dataset), total_correct / len(loader.dataset)\n",
        "\n",
        "#training loop\n",
        "# Initialize lists to store metrics\n",
        "train_losses = []\n",
        "train_accs = []\n",
        "val_losses = []\n",
        "val_accs = []\n",
        "\n",
        "epochs = 10\n",
        "for epoch in range(epochs):\n",
        "    train_loss, train_acc = train_epoch(model, train_loader, optimizer, criterion)\n",
        "    val_loss, val_acc = eval_model(model, valid_loader, criterion)\n",
        "\n",
        "    train_losses.append(train_loss)\n",
        "    train_accs.append(train_acc)\n",
        "    val_losses.append(val_loss)\n",
        "    val_accs.append(val_acc)\n",
        "\n",
        "    print(f\"Epoch {epoch+1}/{epochs} | Train Loss: {train_loss:.4f} | Acc: {train_acc:.4f} | Val Loss: {val_loss:.4f} | Acc: {val_acc:.4f}\")\n",
        "\n",
        "# Plot loss curves\n",
        "plt.figure(figsize=(12,5))\n",
        "\n",
        "plt.subplot(1,2,1)\n",
        "plt.plot(range(1, epochs+1), train_losses, label='Train Loss')\n",
        "plt.plot(range(1, epochs+1), val_losses, label='Validation Loss')\n",
        "plt.xlabel('Epoch')\n",
        "plt.ylabel('Loss')\n",
        "plt.title('Loss over Epochs')\n",
        "plt.legend()\n",
        "\n",
        "# Plot accuracy curves\n",
        "plt.subplot(1,2,2)\n",
        "plt.plot(range(1, epochs+1), train_accs, label='Train Accuracy')\n",
        "plt.plot(range(1, epochs+1), val_accs, label='Validation Accuracy')\n",
        "plt.xlabel('Epoch')\n",
        "plt.ylabel('Accuracy')\n",
        "plt.title('Accuracy over Epochs')\n",
        "plt.legend()\n",
        "\n",
        "plt.show()\n",
        "\n",
        "# Final test accuracy\n",
        "test_loss, test_acc = eval_model(model, test_loader, criterion)\n",
        "print(f\"Test Loss: {test_loss:.4f} | Test Accuracy: {test_acc:.4f}\")\n",
        "\n"
      ]
    },
    {
      "cell_type": "code",
      "execution_count": null,
      "metadata": {
        "colab": {
          "base_uri": "https://localhost:8080/"
        },
        "id": "Nmf7hh4KhYYH",
        "outputId": "7e92a592-f4f8-45f2-cc92-e355160d4bda"
      },
      "outputs": [
        {
          "name": "stdout",
          "output_type": "stream",
          "text": [
            "Model saved to /content/drive/MyDrive/affectnet_resnet18.pth\n"
          ]
        }
      ],
      "source": [
        "# Save the trained model (assuming training cell was already run)\n",
        "save_path = '/content/drive/MyDrive/affectnet_resnet18.pth'\n",
        "torch.save(model.state_dict(), save_path)\n",
        "print(f\"Model saved to {save_path}\")\n"
      ]
    },
    {
      "cell_type": "code",
      "execution_count": null,
      "metadata": {
        "colab": {
          "base_uri": "https://localhost:8080/"
        },
        "id": "LPDL1LyfAFug",
        "outputId": "ba5f7a3a-3cec-4bec-ac1c-5218c4578b79"
      },
      "outputs": [
        {
          "name": "stdout",
          "output_type": "stream",
          "text": [
            "Drive already mounted at /content/drive; to attempt to forcibly remount, call drive.mount(\"/content/drive\", force_remount=True).\n"
          ]
        }
      ],
      "source": [
        "from google.colab import drive\n",
        "import zipfile\n",
        "import os\n",
        "\n",
        "# Mount Drive\n",
        "drive.mount('/content/drive')\n",
        "\n",
        "# Path to ZIP\n",
        "zip_path = '/content/drive/MyDrive/ravdess.zip'  # change if needed\n",
        "extract_path = '/content/ravdess'\n",
        "\n",
        "# Extract if not already done\n",
        "if not os.path.exists(extract_path):\n",
        "    with zipfile.ZipFile(zip_path, 'r') as zip_ref:\n",
        "        zip_ref.extractall(extract_path)\n",
        "\n"
      ]
    },
    {
      "cell_type": "code",
      "execution_count": null,
      "metadata": {
        "colab": {
          "base_uri": "https://localhost:8080/"
        },
        "id": "M--U2nHzfe-d",
        "outputId": "bdbbbab9-b44a-4325-b8d5-506051401793"
      },
      "outputs": [
        {
          "name": "stdout",
          "output_type": "stream",
          "text": [
            "Total audio files: 1440\n",
            "Sample file: /content/ravdess/Actor_23/03-01-04-01-02-01-23.wav\n"
          ]
        }
      ],
      "source": [
        "import glob\n",
        "\n",
        "wav_files = glob.glob(os.path.join(extract_path, 'Actor_*', '*.wav'))\n",
        "print(f'Total audio files: {len(wav_files)}')\n",
        "print(f'Sample file: {wav_files[0]}')\n"
      ]
    },
    {
      "cell_type": "code",
      "execution_count": null,
      "metadata": {
        "id": "DCdK0Ni0fiqZ"
      },
      "outputs": [],
      "source": [
        "def extract_emotion(file_path):\n",
        "    file_name = os.path.basename(file_path)\n",
        "    emotion_id = int(file_name.split('-')[2])\n",
        "    return emotion_id - 1  # Convert to 0-based indexing (0–7)\n"
      ]
    },
    {
      "cell_type": "code",
      "execution_count": null,
      "metadata": {
        "id": "mwjXPkxofjzr"
      },
      "outputs": [],
      "source": [
        "import librosa\n",
        "import numpy as np\n",
        "\n",
        "def extract_features(file_path, n_mfcc=40):\n",
        "    y, sr = librosa.load(file_path, sr=None)\n",
        "    mfccs = librosa.feature.mfcc(y=y, sr=sr, n_mfcc=n_mfcc)\n",
        "    mfccs_mean = np.mean(mfccs.T, axis=0)\n",
        "    return mfccs_mean\n"
      ]
    },
    {
      "cell_type": "code",
      "execution_count": null,
      "metadata": {
        "id": "BR0IhfKKfnkf"
      },
      "outputs": [],
      "source": [
        "X, y = [], []\n",
        "\n",
        "for file_path in wav_files:\n",
        "    features = extract_features(file_path)\n",
        "    label = extract_emotion(file_path)\n",
        "    X.append(features)\n",
        "    y.append(label)\n",
        "\n",
        "X = np.array(X)\n",
        "y = np.array(y)\n",
        "print(\"Feature shape:\", X.shape, \"Label shape:\", y.shape)\n"
      ]
    },
    {
      "cell_type": "code",
      "execution_count": null,
      "metadata": {
        "id": "BonY-qhif7Eb"
      },
      "outputs": [],
      "source": [
        "from sklearn.model_selection import train_test_split\n",
        "X_train, X_test, y_train, y_test = train_test_split(X, y, test_size=0.2, stratify=y, random_state=42)\n"
      ]
    },
    {
      "cell_type": "code",
      "execution_count": null,
      "metadata": {
        "id": "LIgo6J43f-vM"
      },
      "outputs": [],
      "source": [
        "from sklearn.ensemble import RandomForestClassifier\n",
        "from sklearn.metrics import classification_report, accuracy_score\n",
        "\n",
        "clf = RandomForestClassifier(n_estimators=100, random_state=42)\n",
        "clf.fit(X_train, y_train)\n",
        "\n",
        "y_pred = clf.predict(X_test)\n",
        "print(\"Accuracy:\", accuracy_score(y_test, y_pred))\n",
        "print(classification_report(y_test, y_pred))\n"
      ]
    },
    {
      "cell_type": "code",
      "execution_count": null,
      "metadata": {
        "id": "JXBZ3Dj1gDgr"
      },
      "outputs": [],
      "source": [
        "import joblib\n",
        "\n",
        "save_path = '/content/drive/MyDrive/ravdess_emotion_model.pkl'\n",
        "joblib.dump(clf, save_path)\n",
        "print(f\"Model saved to {save_path}\")\n"
      ]
    },
    {
      "cell_type": "code",
      "source": [
        "!unzip -q \"/content/drive/MyDrive/affectnet.zip\" -d \"/content/drive/MyDrive/affectnet_unzipped\"\n",
        "!ls \"/content/drive/MyDrive/affectnet_unzipped/YOLO_format/train/images\" | head\n"
      ],
      "metadata": {
        "colab": {
          "base_uri": "https://localhost:8080/"
        },
        "id": "Zq0LsrZfillU",
        "outputId": "55fbfe1c-72e4-42cd-d984-9b159237094d"
      },
      "execution_count": 8,
      "outputs": [
        {
          "output_type": "stream",
          "name": "stdout",
          "text": [
            "ffhq_0.png\n",
            "ffhq_1000.png\n",
            "ffhq_1001.png\n",
            "ffhq_1003.png\n",
            "ffhq_1004.png\n",
            "ffhq_1005.png\n",
            "ffhq_1007.png\n",
            "ffhq_1008.png\n",
            "ffhq_1009.png\n",
            "ffhq_100.png\n"
          ]
        }
      ]
    },
    {
      "cell_type": "code",
      "source": [
        "# 📂 Mount Google Drive\n",
        "from google.colab import drive\n",
        "drive.mount('/content/drive')\n",
        "\n",
        "# 📦 Imports\n",
        "import os\n",
        "import torch\n",
        "import torch.nn as nn\n",
        "import torch.nn.functional as F\n",
        "from torch.utils.data import Dataset, DataLoader, random_split\n",
        "from torchvision import transforms\n",
        "from torchvision.models import resnet18\n",
        "import joblib\n",
        "import librosa\n",
        "import numpy as np\n",
        "from PIL import Image\n",
        "from tqdm import tqdm\n",
        "import matplotlib.pyplot as plt\n",
        "from sklearn.metrics import classification_report, confusion_matrix, ConfusionMatrixDisplay\n",
        "\n",
        "# 💻 Device\n",
        "device = torch.device(\"cuda\" if torch.cuda.is_available() else \"cpu\")\n",
        "\n",
        "# 🧠 Load AffectNet (ResNet18)\n",
        "affectnet_model = torch.hub.load('pytorch/vision:v0.14.0', 'resnet18', pretrained=False)\n",
        "affectnet_model.fc = nn.Linear(affectnet_model.fc.in_features, 8)\n",
        "affectnet_model.load_state_dict(torch.load('/content/drive/MyDrive/affectnet_resnet18.pth'))\n",
        "affectnet_model.to(device)\n",
        "affectnet_model.eval()\n",
        "\n",
        "# 🎧 Load RAVDESS Random Forest Model\n",
        "ravdess_model = joblib.load('/content/drive/MyDrive/ravdess_emotion_model.pkl')\n",
        "\n",
        "# 📊 Audio embedding function\n",
        "def get_ravdess_embedding(filepath):\n",
        "    y, sr = librosa.load(filepath, sr=None)\n",
        "    mfccs = librosa.feature.mfcc(y=y, sr=sr, n_mfcc=13)\n",
        "    mfccs = mfccs.mean(axis=1)\n",
        "    pred = ravdess_model.predict_proba([mfccs])[0]\n",
        "    return torch.tensor(pred, dtype=torch.float32)\n",
        "\n",
        "# 🧷 AffectNet Dataset (YOLO format)\n",
        "class AffectNetYOLODataset(Dataset):\n",
        "    def __init__(self, image_dir, label_dir, transform=None):\n",
        "        self.image_dir = image_dir\n",
        "        self.label_dir = label_dir\n",
        "        self.transform = transform\n",
        "        self.images = [f for f in os.listdir(image_dir) if f.endswith(\".jpg\")]\n",
        "\n",
        "    def __len__(self):\n",
        "        return len(self.images)\n",
        "\n",
        "    def __getitem__(self, idx):\n",
        "        img_name = self.images[idx]\n",
        "        img_path = os.path.join(self.image_dir, img_name)\n",
        "        label_path = os.path.join(self.label_dir, img_name.replace('.jpg', '.txt'))\n",
        "\n",
        "        with open(label_path, 'r') as f:\n",
        "            label = int(f.readline().split()[0])\n",
        "\n",
        "        image = Image.open(img_path).convert('RGB')\n",
        "        if self.transform:\n",
        "            image = self.transform(image)\n",
        "\n",
        "        return 'affectnet', image, label\n",
        "\n",
        "# 🧷 RAVDESS Dataset\n",
        "class RAVDESSDataset(Dataset):\n",
        "    def __init__(self, base_dir, label_map):\n",
        "        self.samples = []\n",
        "        for root, _, files in os.walk(base_dir):\n",
        "            for file in files:\n",
        "                if file.endswith('.wav'):\n",
        "                    label = int(file.split('-')[2]) - 1  # Emotion ID is 3rd field (starts at 1)\n",
        "                    self.samples.append((os.path.join(root, file), label))\n",
        "        self.label_map = label_map\n",
        "\n",
        "    def __len__(self):\n",
        "        return len(self.samples)\n",
        "\n",
        "    def __getitem__(self, idx):\n",
        "        path, label = self.samples[idx]\n",
        "        return 'ravdess', path, label\n",
        "\n",
        "# 🚀 Combine Datasets\n",
        "transform = transforms.Compose([\n",
        "    transforms.Resize((224, 224)),\n",
        "    transforms.ToTensor()\n",
        "])\n",
        "\n",
        "affectnet_path = \"/content/drive/MyDrive/affectnet_unzipped/YOLO_format/train\"\n",
        "affectnet_dataset = AffectNetYOLODataset(\n",
        "    image_dir=os.path.join(affectnet_path, \"images\"),\n",
        "    label_dir=os.path.join(affectnet_path, \"labels\"),\n",
        "    transform=transform\n",
        ")\n",
        "\n",
        "\n",
        "ravdess_dataset = RAVDESSDataset(\"/content/drive/MyDrive/ravdess\", label_map=None)\n",
        "\n",
        "# 🧃 Merge into one dataset\n",
        "class FusionDataset(Dataset):\n",
        "    def __init__(self, affectnet_dataset, ravdess_dataset):\n",
        "        self.data = affectnet_dataset + ravdess_dataset\n",
        "\n",
        "    def __len__(self):\n",
        "        return len(self.data)\n",
        "\n",
        "    def __getitem__(self, idx):\n",
        "        return self.data[idx]\n",
        "\n",
        "fusion_dataset = FusionDataset(affectnet_dataset, ravdess_dataset)\n",
        "fusion_loader = DataLoader(fusion_dataset, batch_size=8, shuffle=True)\n",
        "\n",
        "# 🔁 Fusion Model\n",
        "class FusionModel(nn.Module):\n",
        "    def __init__(self, affectnet_model, ravdess_model_embedding_size=8, fusion_hidden_dim=128, num_classes=8):\n",
        "        super(FusionModel, self).__init__()\n",
        "        self.affectnet_model = affectnet_model\n",
        "        self.ravdess_embedding_size = ravdess_model_embedding_size\n",
        "\n",
        "        for param in self.affectnet_model.parameters():\n",
        "            param.requires_grad = False\n",
        "        self.affectnet_model.fc = nn.Identity()\n",
        "\n",
        "        self.ravdess_fc = nn.Sequential(\n",
        "            nn.Linear(ravdess_model_embedding_size, 64),\n",
        "            nn.ReLU(),\n",
        "            nn.Dropout(0.3)\n",
        "        )\n",
        "\n",
        "        self.fusion_fc = nn.Sequential(\n",
        "            nn.Linear(512 + 64, fusion_hidden_dim),\n",
        "            nn.ReLU(),\n",
        "            nn.Dropout(0.3),\n",
        "            nn.Linear(fusion_hidden_dim, num_classes)\n",
        "        )\n",
        "\n",
        "    def forward(self, source, x):\n",
        "        if source == 'affectnet':\n",
        "            emb = self.affectnet_model(x)\n",
        "            audio_emb = torch.zeros(x.size(0), self.ravdess_embedding_size).to(x.device)\n",
        "        else:\n",
        "            emb = torch.zeros(x.size(0), 512).to(x.device)\n",
        "            audio_emb = x\n",
        "\n",
        "        audio_emb = self.ravdess_fc(audio_emb)\n",
        "        fused = torch.cat((emb.view(emb.size(0), -1), audio_emb.view(audio_emb.size(0), -1)), dim=1)\n",
        "        return self.fusion_fc(fused)\n",
        "\n",
        "# 🧠 Train Fusion Model with Early Stopping\n",
        "fusion_model = FusionModel(affectnet_model).to(device)\n",
        "criterion = nn.CrossEntropyLoss()\n",
        "optimizer = torch.optim.Adam(fusion_model.parameters(), lr=1e-4)\n",
        "num_epochs = 10\n",
        "early_stop_patience = 3\n",
        "best_loss = float('inf')\n",
        "no_improve = 0\n",
        "train_losses = []\n",
        "\n",
        "for epoch in range(num_epochs):\n",
        "    fusion_model.train()\n",
        "    epoch_loss = 0.0\n",
        "    correct, total = 0, 0\n",
        "    progress_bar = tqdm(fusion_loader, desc=f\"Epoch {epoch+1}/{num_epochs}\")\n",
        "\n",
        "    for source, datas, labels in progress_bar:\n",
        "        optimizer.zero_grad()\n",
        "        labels = labels.to(device)\n",
        "        outputs = []\n",
        "\n",
        "        for i in range(len(source)):\n",
        "            if source[i] == 'affectnet':\n",
        "                img = datas[i].to(device)\n",
        "                out = fusion_model('affectnet', img.unsqueeze(0))\n",
        "            else:\n",
        "                emb = get_ravdess_embedding(datas[i]).to(device)\n",
        "                out = fusion_model('ravdess', emb.unsqueeze(0))\n",
        "            outputs.append(out)\n",
        "\n",
        "        outputs = torch.cat(outputs, dim=0)\n",
        "        loss = criterion(outputs, labels)\n",
        "        loss.backward()\n",
        "        optimizer.step()\n",
        "\n",
        "        _, predicted = torch.max(outputs.data, 1)\n",
        "        total += labels.size(0)\n",
        "        correct += (predicted == labels).sum().item()\n",
        "        epoch_loss += loss.item()\n",
        "\n",
        "        progress_bar.set_postfix({\"Loss\": loss.item(), \"Acc\": f\"{100 * correct / total:.2f}%\"})\n",
        "\n",
        "    avg_loss = epoch_loss / len(fusion_loader)\n",
        "    train_losses.append(avg_loss)\n",
        "    print(f\"\\n✅ Epoch {epoch+1} | Loss: {avg_loss:.4f} | Accuracy: {correct/total:.4f}\")\n",
        "\n",
        "    if avg_loss < best_loss:\n",
        "        best_loss = avg_loss\n",
        "        no_improve = 0\n",
        "        torch.save(fusion_model.state_dict(), \"/content/best_fusion_model.pth\")\n",
        "    else:\n",
        "        no_improve += 1\n",
        "        if no_improve >= early_stop_patience:\n",
        "            print(\"🛑 Early stopping triggered.\")\n",
        "            break\n",
        "\n",
        "# 📈 Plot Loss\n",
        "plt.plot(range(1, len(train_losses) + 1), train_losses, marker='o', label='Training Loss')\n",
        "plt.xlabel('Epoch')\n",
        "plt.ylabel('Loss')\n",
        "plt.title('Training Loss per Epoch')\n",
        "plt.grid(True)\n",
        "plt.legend()\n",
        "plt.show()\n"
      ],
      "metadata": {
        "colab": {
          "base_uri": "https://localhost:8080/",
          "height": 1000
        },
        "id": "wcHdfFV3ihkk",
        "outputId": "622ee9eb-7363-4a9a-f6f9-f4c246afb9a7"
      },
      "execution_count": 9,
      "outputs": [
        {
          "output_type": "stream",
          "name": "stdout",
          "text": [
            "Drive already mounted at /content/drive; to attempt to forcibly remount, call drive.mount(\"/content/drive\", force_remount=True).\n"
          ]
        },
        {
          "output_type": "stream",
          "name": "stderr",
          "text": [
            "Using cache found in /root/.cache/torch/hub/pytorch_vision_v0.14.0\n",
            "Epoch 1/10: 100%|██████████| 1521/1521 [04:43<00:00,  5.36it/s, Loss=1.79, Acc=16.68%]\n"
          ]
        },
        {
          "output_type": "stream",
          "name": "stdout",
          "text": [
            "\n",
            "✅ Epoch 1 | Loss: 1.9947 | Accuracy: 0.1668\n"
          ]
        },
        {
          "output_type": "stream",
          "name": "stderr",
          "text": [
            "Epoch 2/10: 100%|██████████| 1521/1521 [02:36<00:00,  9.73it/s, Loss=2.06, Acc=17.15%]\n"
          ]
        },
        {
          "output_type": "stream",
          "name": "stdout",
          "text": [
            "\n",
            "✅ Epoch 2 | Loss: 1.9876 | Accuracy: 0.1715\n"
          ]
        },
        {
          "output_type": "stream",
          "name": "stderr",
          "text": [
            "Epoch 3/10: 100%|██████████| 1521/1521 [02:35<00:00,  9.81it/s, Loss=1.88, Acc=18.08%]\n"
          ]
        },
        {
          "output_type": "stream",
          "name": "stdout",
          "text": [
            "\n",
            "✅ Epoch 3 | Loss: 1.9839 | Accuracy: 0.1808\n"
          ]
        },
        {
          "output_type": "stream",
          "name": "stderr",
          "text": [
            "Epoch 4/10: 100%|██████████| 1521/1521 [02:35<00:00,  9.76it/s, Loss=1.99, Acc=17.88%]\n"
          ]
        },
        {
          "output_type": "stream",
          "name": "stdout",
          "text": [
            "\n",
            "✅ Epoch 4 | Loss: 1.9843 | Accuracy: 0.1788\n"
          ]
        },
        {
          "output_type": "stream",
          "name": "stderr",
          "text": [
            "Epoch 5/10: 100%|██████████| 1521/1521 [02:38<00:00,  9.59it/s, Loss=2.13, Acc=17.71%]\n"
          ]
        },
        {
          "output_type": "stream",
          "name": "stdout",
          "text": [
            "\n",
            "✅ Epoch 5 | Loss: 1.9838 | Accuracy: 0.1771\n"
          ]
        },
        {
          "output_type": "stream",
          "name": "stderr",
          "text": [
            "Epoch 6/10: 100%|██████████| 1521/1521 [02:35<00:00,  9.80it/s, Loss=2.12, Acc=18.17%]\n"
          ]
        },
        {
          "output_type": "stream",
          "name": "stdout",
          "text": [
            "\n",
            "✅ Epoch 6 | Loss: 1.9794 | Accuracy: 0.1817\n"
          ]
        },
        {
          "output_type": "stream",
          "name": "stderr",
          "text": [
            "Epoch 7/10: 100%|██████████| 1521/1521 [02:34<00:00,  9.82it/s, Loss=1.88, Acc=18.21%]\n"
          ]
        },
        {
          "output_type": "stream",
          "name": "stdout",
          "text": [
            "\n",
            "✅ Epoch 7 | Loss: 1.9788 | Accuracy: 0.1821\n"
          ]
        },
        {
          "output_type": "stream",
          "name": "stderr",
          "text": [
            "Epoch 8/10: 100%|██████████| 1521/1521 [02:35<00:00,  9.78it/s, Loss=1.92, Acc=18.48%]\n"
          ]
        },
        {
          "output_type": "stream",
          "name": "stdout",
          "text": [
            "\n",
            "✅ Epoch 8 | Loss: 1.9773 | Accuracy: 0.1848\n"
          ]
        },
        {
          "output_type": "stream",
          "name": "stderr",
          "text": [
            "Epoch 9/10: 100%|██████████| 1521/1521 [02:35<00:00,  9.79it/s, Loss=1.97, Acc=18.29%]\n"
          ]
        },
        {
          "output_type": "stream",
          "name": "stdout",
          "text": [
            "\n",
            "✅ Epoch 9 | Loss: 1.9789 | Accuracy: 0.1829\n"
          ]
        },
        {
          "output_type": "stream",
          "name": "stderr",
          "text": [
            "Epoch 10/10: 100%|██████████| 1521/1521 [02:34<00:00,  9.84it/s, Loss=1.99, Acc=18.49%]\n"
          ]
        },
        {
          "output_type": "stream",
          "name": "stdout",
          "text": [
            "\n",
            "✅ Epoch 10 | Loss: 1.9775 | Accuracy: 0.1849\n"
          ]
        },
        {
          "output_type": "display_data",
          "data": {
            "text/plain": [
              "<Figure size 640x480 with 1 Axes>"
            ],
            "image/png": "[encoded data removed]"
          },
          "metadata": {}
        }
      ]
    },
    {
      "cell_type": "code",
      "source": [
        "# 📂 Mount Google Drive\n",
        "from google.colab import drive\n",
        "drive.mount('/content/drive')\n",
        "\n",
        "# 📦 Imports\n",
        "import os\n",
        "import torch\n",
        "import torch.nn as nn\n",
        "import torch.nn.functional as F\n",
        "from torch.utils.data import Dataset, DataLoader\n",
        "from torchvision.models import resnet18\n",
        "import joblib\n",
        "import librosa\n",
        "import numpy as np\n",
        "from PIL import Image\n",
        "from tqdm import tqdm\n",
        "import matplotlib.pyplot as plt\n",
        "from sklearn.metrics import classification_report, confusion_matrix, ConfusionMatrixDisplay\n",
        "\n",
        "# 💻 Device\n",
        "device = torch.device(\"cuda\" if torch.cuda.is_available() else \"cpu\")\n",
        "\n",
        "# 🧠 Load AffectNet (ResNet18)\n",
        "affectnet_model = torch.hub.load('pytorch/vision:v0.14.0', 'resnet18', pretrained=False)\n",
        "affectnet_model.fc = nn.Linear(affectnet_model.fc.in_features, 8)\n",
        "affectnet_model.load_state_dict(torch.load('/content/drive/MyDrive/affectnet_resnet18.pth'))\n",
        "affectnet_model.to(device)\n",
        "affectnet_model.eval()\n",
        "\n",
        "# 🎧 Load RAVDESS Random Forest Model\n",
        "ravdess_model = joblib.load('/content/drive/MyDrive/ravdess_emotion_model.pkl')\n",
        "\n",
        "# 📊 Dummy RAVDESS embedding function (replace with yours if needed)\n",
        "def get_ravdess_embedding(filepath):\n",
        "    y, sr = librosa.load(filepath, sr=None)\n",
        "    mfccs = librosa.feature.mfcc(y=y, sr=sr, n_mfcc=13)\n",
        "    mfccs = mfccs.mean(axis=1)\n",
        "    pred = ravdess_model.predict_proba([mfccs])[0]\n",
        "    return torch.tensor(pred, dtype=torch.float32)\n",
        "\n",
        "# 🔁 Fusion Model\n",
        "class FusionModel(nn.Module):\n",
        "    def __init__(self, affectnet_model, ravdess_model_embedding_size=8, fusion_hidden_dim=128, num_classes=8):\n",
        "        super(FusionModel, self).__init__()\n",
        "        self.affectnet_model = affectnet_model\n",
        "        self.ravdess_embedding_size = ravdess_model_embedding_size\n",
        "\n",
        "        for param in self.affectnet_model.parameters():\n",
        "            param.requires_grad = False\n",
        "        self.affectnet_model.fc = nn.Identity()\n",
        "\n",
        "        self.ravdess_fc = nn.Sequential(\n",
        "            nn.Linear(ravdess_model_embedding_size, 64),\n",
        "            nn.ReLU(),\n",
        "            nn.Dropout(0.3)\n",
        "        )\n",
        "\n",
        "        self.fusion_fc = nn.Sequential(\n",
        "            nn.Linear(512 + 64, fusion_hidden_dim),\n",
        "            nn.ReLU(),\n",
        "            nn.Dropout(0.3),\n",
        "            nn.Linear(fusion_hidden_dim, num_classes)\n",
        "        )\n",
        "\n",
        "    def forward(self, source, x):\n",
        "        if source == 'affectnet':\n",
        "            emb = self.affectnet_model(x)\n",
        "            audio_emb = torch.zeros(x.size(0), self.ravdess_embedding_size).to(x.device)\n",
        "        else:\n",
        "            emb = torch.zeros(x.size(0), 512).to(x.device)\n",
        "            audio_emb = x\n",
        "\n",
        "        audio_emb = self.ravdess_fc(audio_emb)\n",
        "        fused = torch.cat((emb.view(emb.size(0), -1), audio_emb.view(audio_emb.size(0), -1)), dim=1)\n",
        "        return self.fusion_fc(fused)\n",
        "\n",
        "# 🚀 Init Fusion Model\n",
        "fusion_model = FusionModel(affectnet_model).to(device)\n",
        "\n",
        "# 🧠 Loss & Optimizer\n",
        "criterion = nn.CrossEntropyLoss()\n",
        "optimizer = torch.optim.Adam(fusion_model.parameters(), lr=1e-4)\n",
        "num_epochs = 10\n",
        "\n",
        "# ⚠️ Requires: fusion_loader defined externally\n",
        "train_losses = []\n",
        "\n",
        "for epoch in range(num_epochs):\n",
        "    fusion_model.train()\n",
        "    epoch_loss = 0.0\n",
        "    correct, total = 0, 0\n",
        "    progress_bar = tqdm(fusion_loader, desc=f\"Epoch {epoch+1}/{num_epochs}\")\n",
        "\n",
        "    for source, datas, labels in progress_bar:\n",
        "        optimizer.zero_grad()\n",
        "        labels = labels.to(device)\n",
        "        outputs = []\n",
        "\n",
        "        for i in range(len(source)):\n",
        "            if source[i] == 'affectnet':\n",
        "                img = datas[i].to(device)\n",
        "                out = fusion_model('affectnet', img.unsqueeze(0))\n",
        "            else:\n",
        "                emb = get_ravdess_embedding(datas[i]).to(device)\n",
        "                out = fusion_model('ravdess', emb.unsqueeze(0))\n",
        "            outputs.append(out)\n",
        "\n",
        "        outputs = torch.cat(outputs, dim=0)\n",
        "        loss = criterion(outputs, labels)\n",
        "        loss.backward()\n",
        "        optimizer.step()\n",
        "\n",
        "        _, predicted = torch.max(outputs.data, 1)\n",
        "        total += labels.size(0)\n",
        "        correct += (predicted == labels).sum().item()\n",
        "        epoch_loss += loss.item()\n",
        "\n",
        "        progress_bar.set_postfix({\"Loss\": loss.item(), \"Acc\": f\"{100 * correct / total:.2f}%\"})\n",
        "\n",
        "    avg_loss = epoch_loss / len(fusion_loader)\n",
        "    train_losses.append(avg_loss)\n",
        "    print(f\"\\n✅ Epoch {epoch+1} | Loss: {avg_loss:.4f} | Accuracy: {correct/total:.4f}\")\n",
        "\n",
        "# 📈 Plot Training Loss\n",
        "plt.plot(range(1, num_epochs + 1), train_losses, marker='o', label='Training Loss')\n",
        "plt.xlabel('Epoch')\n",
        "plt.ylabel('Loss')\n",
        "plt.title('Training Loss per Epoch')\n",
        "plt.grid(True)\n",
        "plt.legend()\n",
        "plt.show()\n",
        "\n",
        "# 📊 Evaluation Function\n",
        "def evaluate_fusion_model(model, loader):\n",
        "    model.eval()\n",
        "    y_true, y_pred = [], []\n",
        "\n",
        "    with torch.no_grad():\n",
        "        for source, datas, labels in tqdm(loader, desc=\"Evaluating\"):\n",
        "            labels = labels.to(device)\n",
        "            batch_preds = []\n",
        "\n",
        "            for i in range(len(source)):\n",
        "                if source[i] == 'affectnet':\n",
        "                    img = datas[i].to(device)\n",
        "                    out = model('affectnet', img.unsqueeze(0))\n",
        "                else:\n",
        "                    emb = get_ravdess_embedding(datas[i]).to(device)\n",
        "                    out = model('ravdess', emb.unsqueeze(0))\n",
        "                batch_preds.append(out)\n",
        "\n",
        "            outputs = torch.cat(batch_preds, dim=0)\n",
        "            _, predicted = torch.max(outputs.data, 1)\n",
        "\n",
        "            y_true.extend(labels.cpu().numpy())\n",
        "            y_pred.extend(predicted.cpu().numpy())\n",
        "\n",
        "    print(\"\\n📊 Classification Report:\")\n",
        "    print(classification_report(y_true, y_pred))\n",
        "\n",
        "    cm = confusion_matrix(y_true, y_pred)\n",
        "    disp = ConfusionMatrixDisplay(confusion_matrix=cm)\n",
        "    disp.plot(cmap=\"Blues\")\n",
        "    plt.title(\"Confusion Matrix\")\n",
        "    plt.show()\n",
        "\n",
        "# ⚠️ Requires: fusion_test_loader defined externally\n",
        "# evaluate_fusion_model(fusion_model, fusion_test_loader)\n"
      ],
      "metadata": {
        "colab": {
          "base_uri": "https://localhost:8080/",
          "height": 510
        },
        "id": "43_s8CgIioAb",
        "outputId": "65ecae47-991d-4262-d312-96c92eb701eb"
      },
      "execution_count": 6,
      "outputs": [
        {
          "output_type": "stream",
          "name": "stdout",
          "text": [
            "Drive already mounted at /content/drive; to attempt to forcibly remount, call drive.mount(\"/content/drive\", force_remount=True).\n"
          ]
        },
        {
          "output_type": "stream",
          "name": "stderr",
          "text": [
            "Using cache found in /root/.cache/torch/hub/pytorch_vision_v0.14.0\n",
            "/usr/local/lib/python3.11/dist-packages/torchvision/models/_utils.py:208: UserWarning: The parameter 'pretrained' is deprecated since 0.13 and may be removed in the future, please use 'weights' instead.\n",
            "  warnings.warn(\n",
            "/usr/local/lib/python3.11/dist-packages/torchvision/models/_utils.py:223: UserWarning: Arguments other than a weight enum or `None` for 'weights' are deprecated since 0.13 and may be removed in the future. The current behavior is equivalent to passing `weights=None`.\n",
            "  warnings.warn(msg)\n",
            "Epoch 1/10:   0%|          | 0/1 [00:00<?, ?it/s]\n"
          ]
        },
        {
          "output_type": "error",
          "ename": "FileNotFoundError",
          "evalue": "[Errno 2] No such file or directory: '/content/drive/MyDrive/affectnet/images/image2.jpg'",
          "traceback": [
            "\u001b[0;31m---------------------------------------------------------------------------\u001b[0m",
            "\u001b[0;31mFileNotFoundError\u001b[0m                         Traceback (most recent call last)",
            "\u001b[0;32m<ipython-input-6-a3118ec8fea7>\u001b[0m in \u001b[0;36m<cell line: 0>\u001b[0;34m()\u001b[0m\n\u001b[1;32m     92\u001b[0m     \u001b[0mprogress_bar\u001b[0m \u001b[0;34m=\u001b[0m \u001b[0mtqdm\u001b[0m\u001b[0;34m(\u001b[0m\u001b[0mfusion_loader\u001b[0m\u001b[0;34m,\u001b[0m \u001b[0mdesc\u001b[0m\u001b[0;34m=\u001b[0m\u001b[0;34mf\"Epoch {epoch+1}/{num_epochs}\"\u001b[0m\u001b[0;34m)\u001b[0m\u001b[0;34m\u001b[0m\u001b[0;34m\u001b[0m\u001b[0m\n\u001b[1;32m     93\u001b[0m \u001b[0;34m\u001b[0m\u001b[0m\n\u001b[0;32m---> 94\u001b[0;31m     \u001b[0;32mfor\u001b[0m \u001b[0msource\u001b[0m\u001b[0;34m,\u001b[0m \u001b[0mdatas\u001b[0m\u001b[0;34m,\u001b[0m \u001b[0mlabels\u001b[0m \u001b[0;32min\u001b[0m \u001b[0mprogress_bar\u001b[0m\u001b[0;34m:\u001b[0m\u001b[0;34m\u001b[0m\u001b[0;34m\u001b[0m\u001b[0m\n\u001b[0m\u001b[1;32m     95\u001b[0m         \u001b[0moptimizer\u001b[0m\u001b[0;34m.\u001b[0m\u001b[0mzero_grad\u001b[0m\u001b[0;34m(\u001b[0m\u001b[0;34m)\u001b[0m\u001b[0;34m\u001b[0m\u001b[0;34m\u001b[0m\u001b[0m\n\u001b[1;32m     96\u001b[0m         \u001b[0mlabels\u001b[0m \u001b[0;34m=\u001b[0m \u001b[0mlabels\u001b[0m\u001b[0;34m.\u001b[0m\u001b[0mto\u001b[0m\u001b[0;34m(\u001b[0m\u001b[0mdevice\u001b[0m\u001b[0;34m)\u001b[0m\u001b[0;34m\u001b[0m\u001b[0;34m\u001b[0m\u001b[0m\n",
            "\u001b[0;32m/usr/local/lib/python3.11/dist-packages/tqdm/std.py\u001b[0m in \u001b[0;36m__iter__\u001b[0;34m(self)\u001b[0m\n\u001b[1;32m   1179\u001b[0m \u001b[0;34m\u001b[0m\u001b[0m\n\u001b[1;32m   1180\u001b[0m         \u001b[0;32mtry\u001b[0m\u001b[0;34m:\u001b[0m\u001b[0;34m\u001b[0m\u001b[0;34m\u001b[0m\u001b[0m\n\u001b[0;32m-> 1181\u001b[0;31m             \u001b[0;32mfor\u001b[0m \u001b[0mobj\u001b[0m \u001b[0;32min\u001b[0m \u001b[0miterable\u001b[0m\u001b[0;34m:\u001b[0m\u001b[0;34m\u001b[0m\u001b[0;34m\u001b[0m\u001b[0m\n\u001b[0m\u001b[1;32m   1182\u001b[0m                 \u001b[0;32myield\u001b[0m \u001b[0mobj\u001b[0m\u001b[0;34m\u001b[0m\u001b[0;34m\u001b[0m\u001b[0m\n\u001b[1;32m   1183\u001b[0m                 \u001b[0;31m# Update and possibly print the progressbar.\u001b[0m\u001b[0;34m\u001b[0m\u001b[0;34m\u001b[0m\u001b[0m\n",
            "\u001b[0;32m/usr/local/lib/python3.11/dist-packages/torch/utils/data/dataloader.py\u001b[0m in \u001b[0;36m__next__\u001b[0;34m(self)\u001b[0m\n\u001b[1;32m    706\u001b[0m                 \u001b[0;31m# TODO(https://github.com/pytorch/pytorch/issues/76750)\u001b[0m\u001b[0;34m\u001b[0m\u001b[0;34m\u001b[0m\u001b[0m\n\u001b[1;32m    707\u001b[0m                 \u001b[0mself\u001b[0m\u001b[0;34m.\u001b[0m\u001b[0m_reset\u001b[0m\u001b[0;34m(\u001b[0m\u001b[0;34m)\u001b[0m  \u001b[0;31m# type: ignore[call-arg]\u001b[0m\u001b[0;34m\u001b[0m\u001b[0;34m\u001b[0m\u001b[0m\n\u001b[0;32m--> 708\u001b[0;31m             \u001b[0mdata\u001b[0m \u001b[0;34m=\u001b[0m \u001b[0mself\u001b[0m\u001b[0;34m.\u001b[0m\u001b[0m_next_data\u001b[0m\u001b[0;34m(\u001b[0m\u001b[0;34m)\u001b[0m\u001b[0;34m\u001b[0m\u001b[0;34m\u001b[0m\u001b[0m\n\u001b[0m\u001b[1;32m    709\u001b[0m             \u001b[0mself\u001b[0m\u001b[0;34m.\u001b[0m\u001b[0m_num_yielded\u001b[0m \u001b[0;34m+=\u001b[0m \u001b[0;36m1\u001b[0m\u001b[0;34m\u001b[0m\u001b[0;34m\u001b[0m\u001b[0m\n\u001b[1;32m    710\u001b[0m             if (\n",
            "\u001b[0;32m/usr/local/lib/python3.11/dist-packages/torch/utils/data/dataloader.py\u001b[0m in \u001b[0;36m_next_data\u001b[0;34m(self)\u001b[0m\n\u001b[1;32m    762\u001b[0m     \u001b[0;32mdef\u001b[0m \u001b[0m_next_data\u001b[0m\u001b[0;34m(\u001b[0m\u001b[0mself\u001b[0m\u001b[0;34m)\u001b[0m\u001b[0;34m:\u001b[0m\u001b[0;34m\u001b[0m\u001b[0;34m\u001b[0m\u001b[0m\n\u001b[1;32m    763\u001b[0m         \u001b[0mindex\u001b[0m \u001b[0;34m=\u001b[0m \u001b[0mself\u001b[0m\u001b[0;34m.\u001b[0m\u001b[0m_next_index\u001b[0m\u001b[0;34m(\u001b[0m\u001b[0;34m)\u001b[0m  \u001b[0;31m# may raise StopIteration\u001b[0m\u001b[0;34m\u001b[0m\u001b[0;34m\u001b[0m\u001b[0m\n\u001b[0;32m--> 764\u001b[0;31m         \u001b[0mdata\u001b[0m \u001b[0;34m=\u001b[0m \u001b[0mself\u001b[0m\u001b[0;34m.\u001b[0m\u001b[0m_dataset_fetcher\u001b[0m\u001b[0;34m.\u001b[0m\u001b[0mfetch\u001b[0m\u001b[0;34m(\u001b[0m\u001b[0mindex\u001b[0m\u001b[0;34m)\u001b[0m  \u001b[0;31m# may raise StopIteration\u001b[0m\u001b[0;34m\u001b[0m\u001b[0;34m\u001b[0m\u001b[0m\n\u001b[0m\u001b[1;32m    765\u001b[0m         \u001b[0;32mif\u001b[0m \u001b[0mself\u001b[0m\u001b[0;34m.\u001b[0m\u001b[0m_pin_memory\u001b[0m\u001b[0;34m:\u001b[0m\u001b[0;34m\u001b[0m\u001b[0;34m\u001b[0m\u001b[0m\n\u001b[1;32m    766\u001b[0m             \u001b[0mdata\u001b[0m \u001b[0;34m=\u001b[0m \u001b[0m_utils\u001b[0m\u001b[0;34m.\u001b[0m\u001b[0mpin_memory\u001b[0m\u001b[0;34m.\u001b[0m\u001b[0mpin_memory\u001b[0m\u001b[0;34m(\u001b[0m\u001b[0mdata\u001b[0m\u001b[0;34m,\u001b[0m \u001b[0mself\u001b[0m\u001b[0;34m.\u001b[0m\u001b[0m_pin_memory_device\u001b[0m\u001b[0;34m)\u001b[0m\u001b[0;34m\u001b[0m\u001b[0;34m\u001b[0m\u001b[0m\n",
            "\u001b[0;32m/usr/local/lib/python3.11/dist-packages/torch/utils/data/_utils/fetch.py\u001b[0m in \u001b[0;36mfetch\u001b[0;34m(self, possibly_batched_index)\u001b[0m\n\u001b[1;32m     50\u001b[0m                 \u001b[0mdata\u001b[0m \u001b[0;34m=\u001b[0m \u001b[0mself\u001b[0m\u001b[0;34m.\u001b[0m\u001b[0mdataset\u001b[0m\u001b[0;34m.\u001b[0m\u001b[0m__getitems__\u001b[0m\u001b[0;34m(\u001b[0m\u001b[0mpossibly_batched_index\u001b[0m\u001b[0;34m)\u001b[0m\u001b[0;34m\u001b[0m\u001b[0;34m\u001b[0m\u001b[0m\n\u001b[1;32m     51\u001b[0m             \u001b[0;32melse\u001b[0m\u001b[0;34m:\u001b[0m\u001b[0;34m\u001b[0m\u001b[0;34m\u001b[0m\u001b[0m\n\u001b[0;32m---> 52\u001b[0;31m                 \u001b[0mdata\u001b[0m \u001b[0;34m=\u001b[0m \u001b[0;34m[\u001b[0m\u001b[0mself\u001b[0m\u001b[0;34m.\u001b[0m\u001b[0mdataset\u001b[0m\u001b[0;34m[\u001b[0m\u001b[0midx\u001b[0m\u001b[0;34m]\u001b[0m \u001b[0;32mfor\u001b[0m \u001b[0midx\u001b[0m \u001b[0;32min\u001b[0m \u001b[0mpossibly_batched_index\u001b[0m\u001b[0;34m]\u001b[0m\u001b[0;34m\u001b[0m\u001b[0;34m\u001b[0m\u001b[0m\n\u001b[0m\u001b[1;32m     53\u001b[0m         \u001b[0;32melse\u001b[0m\u001b[0;34m:\u001b[0m\u001b[0;34m\u001b[0m\u001b[0;34m\u001b[0m\u001b[0m\n\u001b[1;32m     54\u001b[0m             \u001b[0mdata\u001b[0m \u001b[0;34m=\u001b[0m \u001b[0mself\u001b[0m\u001b[0;34m.\u001b[0m\u001b[0mdataset\u001b[0m\u001b[0;34m[\u001b[0m\u001b[0mpossibly_batched_index\u001b[0m\u001b[0;34m]\u001b[0m\u001b[0;34m\u001b[0m\u001b[0;34m\u001b[0m\u001b[0m\n",
            "\u001b[0;32m/usr/local/lib/python3.11/dist-packages/torch/utils/data/_utils/fetch.py\u001b[0m in \u001b[0;36m<listcomp>\u001b[0;34m(.0)\u001b[0m\n\u001b[1;32m     50\u001b[0m                 \u001b[0mdata\u001b[0m \u001b[0;34m=\u001b[0m \u001b[0mself\u001b[0m\u001b[0;34m.\u001b[0m\u001b[0mdataset\u001b[0m\u001b[0;34m.\u001b[0m\u001b[0m__getitems__\u001b[0m\u001b[0;34m(\u001b[0m\u001b[0mpossibly_batched_index\u001b[0m\u001b[0;34m)\u001b[0m\u001b[0;34m\u001b[0m\u001b[0;34m\u001b[0m\u001b[0m\n\u001b[1;32m     51\u001b[0m             \u001b[0;32melse\u001b[0m\u001b[0;34m:\u001b[0m\u001b[0;34m\u001b[0m\u001b[0;34m\u001b[0m\u001b[0m\n\u001b[0;32m---> 52\u001b[0;31m                 \u001b[0mdata\u001b[0m \u001b[0;34m=\u001b[0m \u001b[0;34m[\u001b[0m\u001b[0mself\u001b[0m\u001b[0;34m.\u001b[0m\u001b[0mdataset\u001b[0m\u001b[0;34m[\u001b[0m\u001b[0midx\u001b[0m\u001b[0;34m]\u001b[0m \u001b[0;32mfor\u001b[0m \u001b[0midx\u001b[0m \u001b[0;32min\u001b[0m \u001b[0mpossibly_batched_index\u001b[0m\u001b[0;34m]\u001b[0m\u001b[0;34m\u001b[0m\u001b[0;34m\u001b[0m\u001b[0m\n\u001b[0m\u001b[1;32m     53\u001b[0m         \u001b[0;32melse\u001b[0m\u001b[0;34m:\u001b[0m\u001b[0;34m\u001b[0m\u001b[0;34m\u001b[0m\u001b[0m\n\u001b[1;32m     54\u001b[0m             \u001b[0mdata\u001b[0m \u001b[0;34m=\u001b[0m \u001b[0mself\u001b[0m\u001b[0;34m.\u001b[0m\u001b[0mdataset\u001b[0m\u001b[0;34m[\u001b[0m\u001b[0mpossibly_batched_index\u001b[0m\u001b[0;34m]\u001b[0m\u001b[0;34m\u001b[0m\u001b[0;34m\u001b[0m\u001b[0m\n",
            "\u001b[0;32m<ipython-input-4-b6913f5fe284>\u001b[0m in \u001b[0;36m__getitem__\u001b[0;34m(self, idx)\u001b[0m\n\u001b[1;32m     34\u001b[0m \u001b[0;34m\u001b[0m\u001b[0m\n\u001b[1;32m     35\u001b[0m         \u001b[0;32mif\u001b[0m \u001b[0msource\u001b[0m \u001b[0;34m==\u001b[0m \u001b[0;34m'affectnet'\u001b[0m\u001b[0;34m:\u001b[0m\u001b[0;34m\u001b[0m\u001b[0;34m\u001b[0m\u001b[0m\n\u001b[0;32m---> 36\u001b[0;31m             \u001b[0mimg\u001b[0m \u001b[0;34m=\u001b[0m \u001b[0mImage\u001b[0m\u001b[0;34m.\u001b[0m\u001b[0mopen\u001b[0m\u001b[0;34m(\u001b[0m\u001b[0mpath\u001b[0m\u001b[0;34m)\u001b[0m\u001b[0;34m.\u001b[0m\u001b[0mconvert\u001b[0m\u001b[0;34m(\u001b[0m\u001b[0;34m'RGB'\u001b[0m\u001b[0;34m)\u001b[0m\u001b[0;34m\u001b[0m\u001b[0;34m\u001b[0m\u001b[0m\n\u001b[0m\u001b[1;32m     37\u001b[0m             \u001b[0;32mif\u001b[0m \u001b[0mself\u001b[0m\u001b[0;34m.\u001b[0m\u001b[0mtransform\u001b[0m\u001b[0;34m:\u001b[0m\u001b[0;34m\u001b[0m\u001b[0;34m\u001b[0m\u001b[0m\n\u001b[1;32m     38\u001b[0m                 \u001b[0mimg\u001b[0m \u001b[0;34m=\u001b[0m \u001b[0mself\u001b[0m\u001b[0;34m.\u001b[0m\u001b[0mtransform\u001b[0m\u001b[0;34m(\u001b[0m\u001b[0mimg\u001b[0m\u001b[0;34m)\u001b[0m\u001b[0;34m\u001b[0m\u001b[0;34m\u001b[0m\u001b[0m\n",
            "\u001b[0;32m/usr/local/lib/python3.11/dist-packages/PIL/Image.py\u001b[0m in \u001b[0;36mopen\u001b[0;34m(fp, mode, formats)\u001b[0m\n\u001b[1;32m   3503\u001b[0m \u001b[0;34m\u001b[0m\u001b[0m\n\u001b[1;32m   3504\u001b[0m     \u001b[0;32mif\u001b[0m \u001b[0mfilename\u001b[0m\u001b[0;34m:\u001b[0m\u001b[0;34m\u001b[0m\u001b[0;34m\u001b[0m\u001b[0m\n\u001b[0;32m-> 3505\u001b[0;31m         \u001b[0mfp\u001b[0m \u001b[0;34m=\u001b[0m \u001b[0mbuiltins\u001b[0m\u001b[0;34m.\u001b[0m\u001b[0mopen\u001b[0m\u001b[0;34m(\u001b[0m\u001b[0mfilename\u001b[0m\u001b[0;34m,\u001b[0m \u001b[0;34m\"rb\"\u001b[0m\u001b[0;34m)\u001b[0m\u001b[0;34m\u001b[0m\u001b[0;34m\u001b[0m\u001b[0m\n\u001b[0m\u001b[1;32m   3506\u001b[0m         \u001b[0mexclusive_fp\u001b[0m \u001b[0;34m=\u001b[0m \u001b[0;32mTrue\u001b[0m\u001b[0;34m\u001b[0m\u001b[0;34m\u001b[0m\u001b[0m\n\u001b[1;32m   3507\u001b[0m     \u001b[0;32melse\u001b[0m\u001b[0;34m:\u001b[0m\u001b[0;34m\u001b[0m\u001b[0;34m\u001b[0m\u001b[0m\n",
            "\u001b[0;31mFileNotFoundError\u001b[0m: [Errno 2] No such file or directory: '/content/drive/MyDrive/affectnet/images/image2.jpg'"
          ]
        }
      ]
    },
    {
      "cell_type": "code",
      "execution_count": null,
      "metadata": {
        "id": "jytQAdejiVz3"
      },
      "outputs": [],
      "source": [
        "# 📂 Mount Google Drive\n",
        "from google.colab import drive\n",
        "drive.mount('/content/drive')\n",
        "\n",
        "# 📦 Imports and Device Setup\n",
        "import os\n",
        "import torch\n",
        "import torch.nn as nn\n",
        "from torch.utils.data import Dataset, DataLoader\n",
        "from torchvision import transforms\n",
        "from torchvision.models import resnet18\n",
        "from PIL import Image\n",
        "import librosa\n",
        "import numpy as np\n",
        "import joblib\n",
        "\n",
        "device = torch.device(\"cuda\" if torch.cuda.is_available() else \"cpu\")\n",
        "\n",
        "# 🎯 Load Pretrained AffectNet Model\n",
        "affectnet_model = torch.hub.load('pytorch/vision:v0.14.0', 'resnet18', pretrained=False)\n",
        "affectnet_model.fc = nn.Linear(affectnet_model.fc.in_features, 8)  # 8 emotion classes\n",
        "affectnet_model.load_state_dict(torch.load('/content/drive/MyDrive/affectnet_resnet18.pth'))\n",
        "affectnet_model.to(device)\n",
        "affectnet_model.eval()\n",
        "\n",
        "# 🎧 Load RAVDESS Random Forest Model\n",
        "ravdess_model = joblib.load('/content/drive/MyDrive/ravdess_emotion_model.pkl')\n",
        "\n",
        "# 🔁 Define Fusion Model\n",
        "class FusionModel(nn.Module):\n",
        "    def __init__(self, affectnet_model, ravdess_model_embedding_size=8, fusion_hidden_dim=128, num_classes=8):\n",
        "        super(FusionModel, self).__init__()\n",
        "        self.affectnet_model = affectnet_model\n",
        "        self.ravdess_embedding_size = ravdess_model_embedding_size\n",
        "        self.fusion_hidden_dim = fusion_hidden_dim\n",
        "\n",
        "        # Freeze AffectNet CNN backbone\n",
        "        for param in self.affectnet_model.parameters():\n",
        "            param.requires_grad = False\n",
        "        self.affectnet_model.fc = nn.Identity()  # use features before classifier (512-d)\n",
        "\n",
        "        # Audio (RAVDESS) embedding projection\n",
        "        self.ravdess_fc = nn.Sequential(\n",
        "            nn.Linear(ravdess_model_embedding_size, 64),\n",
        "            nn.ReLU(),\n",
        "            nn.Dropout(0.3)\n",
        "        )\n",
        "\n",
        "        # Fusion + classifier head\n",
        "        self.fusion_fc = nn.Sequential(\n",
        "            nn.Linear(512 + 64, fusion_hidden_dim),  # 512 from image, 64 from audio\n",
        "            nn.ReLU(),\n",
        "            nn.Dropout(0.3),\n",
        "            nn.Linear(fusion_hidden_dim, num_classes)\n",
        "        )\n",
        "\n",
        "    def forward(self, source, x):\n",
        "        if source == 'affectnet':\n",
        "            emb = self.affectnet_model(x)  # shape: [B, 512]\n",
        "            audio_emb = torch.zeros(x.size(0), self.ravdess_embedding_size).to(x.device)\n",
        "        else:\n",
        "            emb = torch.zeros(x.size(0), 512).to(x.device)\n",
        "            audio_emb = x  # shape: [B, 8]\n",
        "\n",
        "        audio_emb = self.ravdess_fc(audio_emb)  # shape: [B, 64]\n",
        "        fused = torch.cat((emb, audio_emb), dim=1)  # shape: [B, 576]\n",
        "        out = self.fusion_fc(fused)  # shape: [B, 8]\n",
        "        return out\n",
        "\n",
        "# 🚀 Instantiate the Fusion Model\n",
        "fusion_model = FusionModel(affectnet_model, ravdess_model_embedding_size=8)\n",
        "fusion_model = fusion_model.to(device)\n",
        "print(f\"✅ FusionModel initialized on device: {device}\")\n"
      ]
    },
    {
      "cell_type": "code",
      "execution_count": null,
      "metadata": {
        "id": "msKT8dQsiZPO"
      },
      "outputs": [],
      "source": [
        "from tqdm import tqdm\n",
        "\n",
        "num_epochs = 10\n",
        "\n",
        "fusion_model.train()\n",
        "for epoch in range(num_epochs):\n",
        "    running_loss = 0.0\n",
        "    batch_count = 0\n",
        "    pbar = tqdm(fusion_loader, desc=f\"Epoch {epoch+1}/{num_epochs}\")\n",
        "\n",
        "    for source, datas, label in pbar:\n",
        "        label = label.to(device)\n",
        "        optimizer.zero_grad()\n",
        "        outputs = []\n",
        "        for i in range(len(source)):\n",
        "            if source[i] == 'affectnet':\n",
        "                data = datas[i].to(device)\n",
        "                out = fusion_model('affectnet', data.unsqueeze(0))\n",
        "            else:\n",
        "                mfcc = datas[i]\n",
        "                emb = get_ravdess_embedding(mfcc).to(device)\n",
        "                out = fusion_model('ravdess', emb)\n",
        "            outputs.append(out)\n",
        "        outputs = torch.cat(outputs, dim=0)\n",
        "        loss = criterion(outputs, label)\n",
        "        loss.backward()\n",
        "        optimizer.step()\n",
        "\n",
        "        running_loss += loss.item()\n",
        "        batch_count += 1\n",
        "        pbar.set_postfix(loss=running_loss / batch_count)\n"
      ]
    },
    {
      "cell_type": "code",
      "execution_count": null,
      "metadata": {
        "id": "bYJFF1oZr5sQ"
      },
      "outputs": [],
      "source": []
    },
    {
      "cell_type": "code",
      "execution_count": null,
      "metadata": {
        "id": "pCZngMm0i3rT"
      },
      "outputs": [],
      "source": [
        "torch.save(fusion_model.state_dict(), '/content/drive/MyDrive/fusion_model_final.pth')\n"
      ]
    },
    {
      "cell_type": "code",
      "execution_count": 1,
      "metadata": {
        "id": "EnKHnGfz3WQ1",
        "colab": {
          "base_uri": "https://localhost:8080/"
        },
        "outputId": "74ab76be-38f8-46fd-e035-66e4db147069"
      },
      "outputs": [
        {
          "output_type": "stream",
          "name": "stdout",
          "text": [
            "Mounted at /content/drive\n"
          ]
        },
        {
          "output_type": "stream",
          "name": "stderr",
          "text": [
            "Downloading: \"https://github.com/pytorch/vision/zipball/v0.14.0\" to /root/.cache/torch/hub/v0.14.0.zip\n",
            "/usr/local/lib/python3.11/dist-packages/torchvision/models/_utils.py:208: UserWarning: The parameter 'pretrained' is deprecated since 0.13 and may be removed in the future, please use 'weights' instead.\n",
            "  warnings.warn(\n",
            "/usr/local/lib/python3.11/dist-packages/torchvision/models/_utils.py:223: UserWarning: Arguments other than a weight enum or `None` for 'weights' are deprecated since 0.13 and may be removed in the future. The current behavior is equivalent to passing `weights=None`.\n",
            "  warnings.warn(msg)\n"
          ]
        },
        {
          "output_type": "stream",
          "name": "stdout",
          "text": [
            "✅ FusionModel initialized on device: cuda\n"
          ]
        }
      ],
      "source": [
        "# 📂 Mount Google Drive\n",
        "from google.colab import drive\n",
        "drive.mount('/content/drive')\n",
        "\n",
        "# 📦 Imports and Device Setup\n",
        "import os\n",
        "import torch\n",
        "import torch.nn as nn\n",
        "from torch.utils.data import Dataset, DataLoader\n",
        "from torchvision import transforms\n",
        "from torchvision.models import resnet18\n",
        "from PIL import Image\n",
        "import librosa\n",
        "import numpy as np\n",
        "import joblib\n",
        "\n",
        "device = torch.device(\"cuda\" if torch.cuda.is_available() else \"cpu\")\n",
        "\n",
        "# 🎯 Load Pretrained AffectNet Model\n",
        "affectnet_model = torch.hub.load('pytorch/vision:v0.14.0', 'resnet18', pretrained=False)\n",
        "affectnet_model.fc = nn.Linear(affectnet_model.fc.in_features, 8)  # 8 emotion classes\n",
        "affectnet_model.load_state_dict(torch.load('/content/drive/MyDrive/affectnet_resnet18.pth'))\n",
        "affectnet_model.to(device)\n",
        "affectnet_model.eval()\n",
        "\n",
        "# 🎧 Load RAVDESS Random Forest Model\n",
        "ravdess_model = joblib.load('/content/drive/MyDrive/ravdess_emotion_model.pkl')\n",
        "\n",
        "# 🔁 Define Fusion Model\n",
        "class FusionModel(nn.Module):\n",
        "    def __init__(self, affectnet_model, ravdess_model_embedding_size=8, fusion_hidden_dim=128, num_classes=8):\n",
        "        super(FusionModel, self).__init__()\n",
        "        self.affectnet_model = affectnet_model\n",
        "        self.ravdess_embedding_size = ravdess_model_embedding_size\n",
        "        self.fusion_hidden_dim = fusion_hidden_dim\n",
        "\n",
        "        # Freeze AffectNet CNN backbone\n",
        "        for param in self.affectnet_model.parameters():\n",
        "            param.requires_grad = False\n",
        "        self.affectnet_model.fc = nn.Identity()  # use features before classifier (512-d)\n",
        "\n",
        "        # Audio (RAVDESS) embedding projection\n",
        "        self.ravdess_fc = nn.Sequential(\n",
        "            nn.Linear(ravdess_model_embedding_size, 64),\n",
        "            nn.ReLU(),\n",
        "            nn.Dropout(0.3)\n",
        "        )\n",
        "\n",
        "        # Fusion + classifier head\n",
        "        self.fusion_fc = nn.Sequential(\n",
        "            nn.Linear(512 + 64, fusion_hidden_dim),  # 512 from image, 64 from audio\n",
        "            nn.ReLU(),\n",
        "            nn.Dropout(0.3),\n",
        "            nn.Linear(fusion_hidden_dim, num_classes)\n",
        "        )\n",
        "\n",
        "    def forward(self, source, x):\n",
        "        if source == 'affectnet':\n",
        "            emb = self.affectnet_model(x)  # shape: [B, 512]\n",
        "            audio_emb = torch.zeros(x.size(0), self.ravdess_embedding_size).to(x.device)\n",
        "        else:\n",
        "            emb = torch.zeros(x.size(0), 512).to(x.device)\n",
        "            audio_emb = x  # shape: [B, 8]\n",
        "\n",
        "        audio_emb = self.ravdess_fc(audio_emb)  # shape: [B, 64]\n",
        "\n",
        "        # Flatten to ensure 2D tensors before concatenation\n",
        "        emb = emb.view(emb.size(0), -1)          # [B, 512]\n",
        "        audio_emb = audio_emb.view(audio_emb.size(0), -1)  # [B, 64]\n",
        "\n",
        "        fused = torch.cat((emb, audio_emb), dim=1)  # shape: [B, 576]\n",
        "        out = self.fusion_fc(fused)  # shape: [B, 8]\n",
        "        return out\n",
        "\n",
        "# 🚀 Instantiate the Fusion Model\n",
        "fusion_model = FusionModel(affectnet_model, ravdess_model_embedding_size=8)\n",
        "fusion_model = fusion_model.to(device)\n",
        "print(f\"✅ FusionModel initialized on device: {device}\")\n"
      ]
    },
    {
      "cell_type": "code",
      "execution_count": 2,
      "metadata": {
        "id": "KXteY4fMijDQ",
        "colab": {
          "base_uri": "https://localhost:8080/",
          "height": 224
        },
        "outputId": "90172345-794b-4e2b-92a4-6aab8323a1ba"
      },
      "outputs": [
        {
          "output_type": "error",
          "ename": "NameError",
          "evalue": "name 'num_epochs' is not defined",
          "traceback": [
            "\u001b[0;31m---------------------------------------------------------------------------\u001b[0m",
            "\u001b[0;31mNameError\u001b[0m                                 Traceback (most recent call last)",
            "\u001b[0;32m<ipython-input-2-aaa4ffb15c7d>\u001b[0m in \u001b[0;36m<cell line: 0>\u001b[0;34m()\u001b[0m\n\u001b[1;32m      4\u001b[0m \u001b[0mtrain_losses\u001b[0m \u001b[0;34m=\u001b[0m \u001b[0;34m[\u001b[0m\u001b[0;34m]\u001b[0m\u001b[0;34m\u001b[0m\u001b[0;34m\u001b[0m\u001b[0m\n\u001b[1;32m      5\u001b[0m \u001b[0;34m\u001b[0m\u001b[0m\n\u001b[0;32m----> 6\u001b[0;31m \u001b[0;32mfor\u001b[0m \u001b[0mepoch\u001b[0m \u001b[0;32min\u001b[0m \u001b[0mrange\u001b[0m\u001b[0;34m(\u001b[0m\u001b[0mnum_epochs\u001b[0m\u001b[0;34m)\u001b[0m\u001b[0;34m:\u001b[0m\u001b[0;34m\u001b[0m\u001b[0;34m\u001b[0m\u001b[0m\n\u001b[0m\u001b[1;32m      7\u001b[0m     \u001b[0mfusion_model\u001b[0m\u001b[0;34m.\u001b[0m\u001b[0mtrain\u001b[0m\u001b[0;34m(\u001b[0m\u001b[0;34m)\u001b[0m\u001b[0;34m\u001b[0m\u001b[0;34m\u001b[0m\u001b[0m\n\u001b[1;32m      8\u001b[0m     \u001b[0mepoch_loss\u001b[0m \u001b[0;34m=\u001b[0m \u001b[0;36m0.0\u001b[0m\u001b[0;34m\u001b[0m\u001b[0;34m\u001b[0m\u001b[0m\n",
            "\u001b[0;31mNameError\u001b[0m: name 'num_epochs' is not defined"
          ]
        }
      ],
      "source": [
        "from tqdm import tqdm\n",
        "import matplotlib.pyplot as plt\n",
        "\n",
        "train_losses = []\n",
        "\n",
        "for epoch in range(num_epochs):\n",
        "    fusion_model.train()\n",
        "    epoch_loss = 0.0\n",
        "\n",
        "    progress_bar = tqdm(fusion_loader, desc=f\"Epoch {epoch+1}/{num_epochs}\")\n",
        "\n",
        "    for source, datas, label in progress_bar:\n",
        "        label = label.to(device)\n",
        "        optimizer.zero_grad()\n",
        "\n",
        "        outputs = []\n",
        "        for i in range(len(source)):\n",
        "            if source[i] == 'affectnet':\n",
        "                data = datas[i].to(device)\n",
        "                output = fusion_model('affectnet', data.unsqueeze(0))\n",
        "            else:\n",
        "                emb = get_ravdess_embedding(datas[i]).to(device)\n",
        "                output = fusion_model('ravdess', emb.unsqueeze(0))\n",
        "            outputs.append(output)\n",
        "\n",
        "        outputs = torch.cat(outputs, dim=0)\n",
        "        loss = criterion(outputs, label)\n",
        "        loss.backward()\n",
        "        optimizer.step()\n",
        "        epoch_loss += loss.item()\n",
        "\n",
        "        progress_bar.set_postfix({\"loss\": loss.item()})\n",
        "\n",
        "    avg_loss = epoch_loss / len(fusion_loader)\n",
        "    train_losses.append(avg_loss)\n",
        "    print(f\"\\n✅ Epoch {epoch+1}/{num_epochs}, Average Loss: {avg_loss:.4f}\")\n",
        "\n",
        "# 📈 Plot: Training Loss over Epochs\n",
        "plt.plot(range(1, num_epochs + 1), train_losses, marker='o', label='Training Loss')\n",
        "plt.xlabel('Epoch')\n",
        "plt.ylabel('Loss')\n",
        "plt.title('Training Loss per Epoch')\n",
        "plt.grid(True)\n",
        "plt.legend()\n",
        "plt.show()\n"
      ]
    },
    {
      "cell_type": "code",
      "execution_count": null,
      "metadata": {
        "id": "tVTU8wONll66"
      },
      "outputs": [],
      "source": [
        "\n"
      ]
    },
    {
      "cell_type": "code",
      "execution_count": null,
      "metadata": {
        "id": "EKK1VsjymF9K"
      },
      "outputs": [],
      "source": [
        "\n"
      ]
    },
    {
      "cell_type": "code",
      "execution_count": null,
      "metadata": {
        "id": "595kPbMxmIB1"
      },
      "outputs": [],
      "source": [
        "\n"
      ]
    },
    {
      "cell_type": "code",
      "execution_count": null,
      "metadata": {
        "id": "0oj4oTkfpd5o"
      },
      "outputs": [],
      "source": [
        "\n"
      ]
    }
  ],
  "metadata": {
    "colab": {
      "provenance": [],
      "gpuType": "T4"
    },
    "kernelspec": {
      "display_name": "Python 3",
      "name": "python3"
    },
    "language_info": {
      "name": "python"
    },
    "accelerator": "GPU"
  },
  "nbformat": 4,
  "nbformat_minor": 0
}